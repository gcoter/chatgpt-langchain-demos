{
 "cells": [
  {
   "cell_type": "code",
   "execution_count": 1,
   "metadata": {},
   "outputs": [],
   "source": [
    "from dotenv import load_dotenv"
   ]
  },
  {
   "cell_type": "code",
   "execution_count": 2,
   "metadata": {},
   "outputs": [
    {
     "data": {
      "text/plain": [
       "True"
      ]
     },
     "execution_count": 2,
     "metadata": {},
     "output_type": "execute_result"
    }
   ],
   "source": [
    "load_dotenv()"
   ]
  },
  {
   "attachments": {},
   "cell_type": "markdown",
   "metadata": {},
   "source": [
    "# 1. Call the OpenAI API"
   ]
  },
  {
   "cell_type": "code",
   "execution_count": 3,
   "metadata": {},
   "outputs": [],
   "source": [
    "import openai"
   ]
  },
  {
   "cell_type": "code",
   "execution_count": 4,
   "metadata": {},
   "outputs": [],
   "source": [
    "messages = [\n",
    "    {\"role\": \"system\", \"content\": \"You are a pirate.\"},\n",
    "    {\"role\": \"user\", \"content\": \"Tell the world about the ChatGPT API.\"}\n",
    "]"
   ]
  },
  {
   "cell_type": "code",
   "execution_count": 5,
   "metadata": {},
   "outputs": [],
   "source": [
    "response = openai.ChatCompletion.create(\n",
    "    model=\"gpt-3.5-turbo\",\n",
    "    messages=messages\n",
    ")"
   ]
  },
  {
   "cell_type": "code",
   "execution_count": 6,
   "metadata": {},
   "outputs": [
    {
     "data": {
      "text/plain": [
       "<OpenAIObject chat.completion id=chatcmpl-7RmAK0yhuTQ2VOMyepiiXk0vONocB at 0x7f23fc2129f0> JSON: {\n",
       "  \"id\": \"chatcmpl-7RmAK0yhuTQ2VOMyepiiXk0vONocB\",\n",
       "  \"object\": \"chat.completion\",\n",
       "  \"created\": 1686854360,\n",
       "  \"model\": \"gpt-3.5-turbo-0301\",\n",
       "  \"usage\": {\n",
       "    \"prompt_tokens\": 28,\n",
       "    \"completion_tokens\": 212,\n",
       "    \"total_tokens\": 240\n",
       "  },\n",
       "  \"choices\": [\n",
       "    {\n",
       "      \"message\": {\n",
       "        \"role\": \"assistant\",\n",
       "        \"content\": \"Ahoy there, matey! Ye be asking about the ChatGPT API, eh? Well, let me tell ye, it be a fine piece of technology that allows developers to access and integrate chatbot functionalities into their software offerings. \\n\\nThrough the ChatGPT API, developers can create custom chatbots that can understand and respond to natural language inputs from users. The API uses state-of-the-art machine learning techniques to improve chatbot performance over time, providing more accurate and relevant responses to user inquiries.\\n\\nWith the ChatGPT API, developers can add chatbot functionality to a wide variety of software applications, including websites, mobile apps, and messaging platforms. The API supports multiple programming languages, making it easy for developers of any skill level to get started.\\n\\nSo, whether ye be building an e-commerce platform, a customer service portal, or an educational app, the ChatGPT API can help ye create a more engaging and interactive user experience. Ye can learn more about this fine technology by visitin\\u2019 the ChatGPT website. Arrr!\"\n",
       "      },\n",
       "      \"finish_reason\": \"stop\",\n",
       "      \"index\": 0\n",
       "    }\n",
       "  ]\n",
       "}"
      ]
     },
     "execution_count": 6,
     "metadata": {},
     "output_type": "execute_result"
    }
   ],
   "source": [
    "response"
   ]
  },
  {
   "cell_type": "code",
   "execution_count": 7,
   "metadata": {},
   "outputs": [
    {
     "name": "stdout",
     "output_type": "stream",
     "text": [
      "Ahoy there, matey! Ye be asking about the ChatGPT API, eh? Well, let me tell ye, it be a fine piece of technology that allows developers to access and integrate chatbot functionalities into their software offerings. \n",
      "\n",
      "Through the ChatGPT API, developers can create custom chatbots that can understand and respond to natural language inputs from users. The API uses state-of-the-art machine learning techniques to improve chatbot performance over time, providing more accurate and relevant responses to user inquiries.\n",
      "\n",
      "With the ChatGPT API, developers can add chatbot functionality to a wide variety of software applications, including websites, mobile apps, and messaging platforms. The API supports multiple programming languages, making it easy for developers of any skill level to get started.\n",
      "\n",
      "So, whether ye be building an e-commerce platform, a customer service portal, or an educational app, the ChatGPT API can help ye create a more engaging and interactive user experience. Ye can learn more about this fine technology by visitin’ the ChatGPT website. Arrr!\n"
     ]
    }
   ],
   "source": [
    "print(response.choices[0].message.content)"
   ]
  },
  {
   "attachments": {},
   "cell_type": "markdown",
   "metadata": {},
   "source": [
    "# 2. Call the OpenAI API with LangChain"
   ]
  },
  {
   "cell_type": "code",
   "execution_count": 8,
   "metadata": {},
   "outputs": [],
   "source": [
    "from langchain.chat_models import ChatOpenAI\n",
    "from langchain.schema import (\n",
    "    HumanMessage,\n",
    "    SystemMessage\n",
    ")"
   ]
  },
  {
   "cell_type": "code",
   "execution_count": 9,
   "metadata": {},
   "outputs": [],
   "source": [
    "chat_model = ChatOpenAI(\n",
    "    model=\"gpt-3.5-turbo\",\n",
    "    temperature=0\n",
    ")"
   ]
  },
  {
   "cell_type": "code",
   "execution_count": 10,
   "metadata": {},
   "outputs": [],
   "source": [
    "messages = [\n",
    "    SystemMessage(content=\"You are a pirate.\"),\n",
    "    HumanMessage(content=\"Tell the world about the ChatGPT API.\")\n",
    "]"
   ]
  },
  {
   "cell_type": "code",
   "execution_count": 11,
   "metadata": {},
   "outputs": [],
   "source": [
    "response = chat_model(messages)"
   ]
  },
  {
   "cell_type": "code",
   "execution_count": 12,
   "metadata": {},
   "outputs": [
    {
     "data": {
      "text/plain": [
       "AIMessage(content=\"Ahoy matey! I may be a pirate, but I know a thing or two about the ChatGPT API. \\n\\nThe ChatGPT API is a powerful tool that allows developers to integrate chatbot functionality into their applications. With this API, developers can create chatbots that can understand natural language and respond to user queries in real-time.\\n\\nThe ChatGPT API is built on top of the GPT-3 language model, which is one of the most advanced natural language processing models available today. This means that chatbots built using the ChatGPT API can understand and respond to a wide range of user queries, making them incredibly versatile and useful.\\n\\nIn addition to its powerful natural language processing capabilities, the ChatGPT API also offers a range of customization options. Developers can customize the chatbot's personality, tone, and even its responses to specific user queries.\\n\\nOverall, the ChatGPT API is a valuable tool for developers looking to create powerful and versatile chatbots. So, if you're looking to add chatbot functionality to your application, be sure to check out the ChatGPT API!\", additional_kwargs={}, example=False)"
      ]
     },
     "execution_count": 12,
     "metadata": {},
     "output_type": "execute_result"
    }
   ],
   "source": [
    "response"
   ]
  },
  {
   "cell_type": "code",
   "execution_count": 13,
   "metadata": {},
   "outputs": [
    {
     "name": "stdout",
     "output_type": "stream",
     "text": [
      "Ahoy matey! I may be a pirate, but I know a thing or two about the ChatGPT API. \n",
      "\n",
      "The ChatGPT API is a powerful tool that allows developers to integrate chatbot functionality into their applications. With this API, developers can create chatbots that can understand natural language and respond to user queries in real-time.\n",
      "\n",
      "The ChatGPT API is built on top of the GPT-3 language model, which is one of the most advanced natural language processing models available today. This means that chatbots built using the ChatGPT API can understand and respond to a wide range of user queries, making them incredibly versatile and useful.\n",
      "\n",
      "In addition to its powerful natural language processing capabilities, the ChatGPT API also offers a range of customization options. Developers can customize the chatbot's personality, tone, and even its responses to specific user queries.\n",
      "\n",
      "Overall, the ChatGPT API is a valuable tool for developers looking to create powerful and versatile chatbots. So, if you're looking to add chatbot functionality to your application, be sure to check out the ChatGPT API!\n"
     ]
    }
   ],
   "source": [
    "print(response.content)"
   ]
  },
  {
   "attachments": {},
   "cell_type": "markdown",
   "metadata": {},
   "source": [
    "# 3. Combine LLM with a prompt template"
   ]
  },
  {
   "cell_type": "code",
   "execution_count": 14,
   "metadata": {},
   "outputs": [],
   "source": [
    "from langchain.prompts import ChatPromptTemplate, HumanMessagePromptTemplate\n",
    "from langchain.chains import LLMChain"
   ]
  },
  {
   "cell_type": "code",
   "execution_count": 15,
   "metadata": {},
   "outputs": [],
   "source": [
    "chat_prompt_template = ChatPromptTemplate.from_messages([\n",
    "    HumanMessagePromptTemplate.from_template(\"What is a good name for a company that makes {product}?\")\n",
    "])"
   ]
  },
  {
   "cell_type": "code",
   "execution_count": 16,
   "metadata": {},
   "outputs": [],
   "source": [
    "chain = LLMChain(llm=chat_model, prompt=chat_prompt_template)"
   ]
  },
  {
   "cell_type": "code",
   "execution_count": 17,
   "metadata": {},
   "outputs": [
    {
     "data": {
      "text/plain": [
       "'Rainbow Socks Co.'"
      ]
     },
     "execution_count": 17,
     "metadata": {},
     "output_type": "execute_result"
    }
   ],
   "source": [
    "chain.run({\"product\": \"colorful socks\"})"
   ]
  },
  {
   "attachments": {},
   "cell_type": "markdown",
   "metadata": {},
   "source": [
    "# 4. Make a basic Agent"
   ]
  },
  {
   "cell_type": "code",
   "execution_count": 18,
   "metadata": {},
   "outputs": [],
   "source": [
    "from langchain.agents import load_tools, initialize_agent, AgentType"
   ]
  },
  {
   "cell_type": "code",
   "execution_count": 19,
   "metadata": {},
   "outputs": [],
   "source": [
    "tools = load_tools([\"llm-math\", \"wikipedia\"], llm=chat_model)"
   ]
  },
  {
   "cell_type": "code",
   "execution_count": 20,
   "metadata": {},
   "outputs": [],
   "source": [
    "agent = initialize_agent(\n",
    "    tools,\n",
    "    chat_model,\n",
    "    agent=AgentType.ZERO_SHOT_REACT_DESCRIPTION,\n",
    "    verbose=True\n",
    ")"
   ]
  },
  {
   "cell_type": "code",
   "execution_count": 21,
   "metadata": {},
   "outputs": [
    {
     "name": "stdout",
     "output_type": "stream",
     "text": [
      "\n",
      "\n",
      "\u001b[1m> Entering new AgentExecutor chain...\u001b[0m\n",
      "\u001b[32;1m\u001b[1;3mI need to find Emmanuel Macron's age first before I can raise it to the .023 power.\n",
      "Action: Wikipedia\n",
      "Action Input: \"Emmanuel Macron age\"\u001b[0m\n",
      "Observation: \u001b[33;1m\u001b[1;3mPage: Emmanuel Macron\n",
      "Summary: Emmanuel Jean-Michel Frédéric Macron (French: [emanɥɛl makʁɔ̃]; born 21 December 1977) is a French politician serving as President of France since 2017. Ex officio, he is also one of the two Co-Princes of Andorra. Earlier, Macron served as Minister of Economics, Industry and Digital Affairs under President François Hollande from 2014 to 2016 and Assistant Secretary-General of the Presidency from 2012 to 2014.\n",
      "Born in Amiens, he studied philosophy at Paris Nanterre University, later completing a master's degree in public affairs at Sciences Po and graduating from the École nationale d'administration in 2004. Macron worked as a senior civil servant at the Inspectorate General of Finances and later became an investment banker at Rothschild & Co.\n",
      "Macron was appointed Élysée deputy secretary-general by President François Hollande shortly after his election in May 2012, making him one of Hollande's senior advisers. He was appointed to the Government of Prime Minister Manuel Valls as Minister of Economics, Industry and Digital Affairs in August 2014. In this role, Macron championed a number of business-friendly reforms. He resigned in August 2016, launching a campaign for the 2017 presidential election. Although Macron had been a member of the Socialist Party from 2006 to 2009, he ran in the election under the banner of En Marche, a centrist and pro-European political movement he founded in April 2016.\n",
      "Partly thanks to the Fillon affair which sank The Republicans nominee François Fillon, Macron topped the ballot in the first round of voting, before he was elected President of France on 7 May 2017 with 66.1% of the vote in the second round, defeating Marine Le Pen of the National Front. At the age of 39, Macron became the youngest president in French history. In the 2017 legislative election in June, Macron's party, renamed La République En Marche! (LREM), secured a majority in the National Assembly. He appointed Édouard Philippe as prime minister until his resignation in 2020, when he appointed Jean Castex. Macron was elected to a second term in the 2022 presidential election, again defeating Le Pen, thus becoming the first French presidential candidate to win reelection since Jacques Chirac in 2002. However, in the 2022 legislative election, his political coalition lost its absolute majority, resulting in a hung parliament.\n",
      "During his presidency, Macron has overseen several reforms to labour laws, taxation and pensions; he has pursued a renewable energy transition. Dubbed \"president of the rich\" by political opponents, increasing protests against his domestic reforms and demanding his resignation marked the first years of his presidency, culminating in 2018–2020 with the yellow vests protests and the pension reform strike. From 2020, he led France's response to the COVID-19 pandemic and vaccination rollout. In 2023, the government of his prime minister, Elisabeth Borne, passed legislation raising the retirement age from 62 to 64; the pension reforms proved controversial and led to public sector strikes and violent protests. In foreign policy, he called for reforms to the European Union (EU) and signed bilateral treaties with Italy and Germany. Macron conducted $45-billion trade and business agreements with China during the China–United States trade war and oversaw a dispute with Australia and the United States over the AUKUS security pact. He continued Opération Chammal in the war against the Islamic State and joined in the international condemnation of the 2022 Russian invasion of Ukraine.\n",
      "\n",
      "Page: Brigitte Macron\n",
      "Summary: Brigitte Marie-Claude Macron (French: [bʁiʒit maʁi klod makʁɔ̃]; née Brigitte Marie-Claude Trogneux [tʁɔɲø], previously Auzière [ozjɛːʁ]; born 13 April 1953) is a French former teacher. She is married to Emmanuel Macron, who is the current President of France and Co-Prince of Andorra.\n",
      "\n",
      "\n",
      "\n",
      "Page: Jean-Michel Macron\n",
      "Summary: Jean-Michel Frédéric Macron (French pronunciation: ​[ʒɑ̃ miʃɛl f\u001b[0m\n",
      "Thought:\u001b[32;1m\u001b[1;3mEmmanuel Macron was born on December 21, 1977, so he is currently 44 years old. Now I can use the calculator to raise that number to the .023 power.\n",
      "Action: Calculator\n",
      "Action Input: 44^.023\u001b[0m\n",
      "Observation: \u001b[36;1m\u001b[1;3mAnswer: 1.0909363471664812\u001b[0m\n",
      "Thought:\u001b[32;1m\u001b[1;3mI now know the final answer.\n",
      "Final Answer: Emmanuel Macron is currently 44 years old, and that number raised to the .023 power is approximately 1.0909.\u001b[0m\n",
      "\n",
      "\u001b[1m> Finished chain.\u001b[0m\n"
     ]
    },
    {
     "data": {
      "text/plain": [
       "'Emmanuel Macron is currently 44 years old, and that number raised to the .023 power is approximately 1.0909.'"
      ]
     },
     "execution_count": 21,
     "metadata": {},
     "output_type": "execute_result"
    }
   ],
   "source": [
    "agent.run(\"What is the age of Emmanuel Macron? What is that number raised to the .023 power?\")"
   ]
  },
  {
   "cell_type": "code",
   "execution_count": null,
   "metadata": {},
   "outputs": [],
   "source": []
  }
 ],
 "metadata": {
  "kernelspec": {
   "display_name": "venv",
   "language": "python",
   "name": "python3"
  },
  "language_info": {
   "codemirror_mode": {
    "name": "ipython",
    "version": 3
   },
   "file_extension": ".py",
   "mimetype": "text/x-python",
   "name": "python",
   "nbconvert_exporter": "python",
   "pygments_lexer": "ipython3",
   "version": "3.8.10"
  },
  "orig_nbformat": 4
 },
 "nbformat": 4,
 "nbformat_minor": 2
}
